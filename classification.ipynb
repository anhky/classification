{
 "cells": [
  {
   "cell_type": "code",
   "execution_count": 226,
   "metadata": {},
   "outputs": [],
   "source": [
    "import numpy as np \n",
    "import matplotlib.pyplot as plt\n",
    "import pandas as pd"
   ]
  },
  {
   "cell_type": "markdown",
   "metadata": {},
   "source": [
    "# Dùng pandas để hiển thị data\n",
    "Ta quy định trước\n",
    "- Những điển có nhân là nghĩa là sẽ có màu đỏ\n",
    "- Những điểm có nhân là 1 nghĩa là sẽ có màu xanh"
   ]
  },
  {
   "cell_type": "code",
   "execution_count": 227,
   "metadata": {},
   "outputs": [],
   "source": [
    "data = pd.read_csv(\"./marks.txt\")"
   ]
  },
  {
   "cell_type": "code",
   "execution_count": 228,
   "metadata": {},
   "outputs": [],
   "source": [
    "x_to_display = data.iloc[:, :-1]"
   ]
  },
  {
   "cell_type": "markdown",
   "metadata": {},
   "source": [
    "# Lấy nhãn ra khỏi data"
   ]
  },
  {
   "cell_type": "code",
   "execution_count": 229,
   "metadata": {},
   "outputs": [],
   "source": [
    "y_to_display = data.iloc[:, -1]"
   ]
  },
  {
   "cell_type": "markdown",
   "metadata": {},
   "source": [
    "# lấy dữ liệu màu đỏ có nhãn là 0 "
   ]
  },
  {
   "cell_type": "code",
   "execution_count": 230,
   "metadata": {},
   "outputs": [],
   "source": [
    "reds = data.loc[y_to_display == 0] # Reds: 0"
   ]
  },
  {
   "cell_type": "markdown",
   "metadata": {},
   "source": [
    "# Lấy dữ liệu có màu xanh"
   ]
  },
  {
   "cell_type": "code",
   "execution_count": 231,
   "metadata": {},
   "outputs": [],
   "source": [
    "blues = data.loc[y_to_display == 1] # Blues: 1"
   ]
  },
  {
   "cell_type": "code",
   "execution_count": 232,
   "metadata": {},
   "outputs": [
    {
     "data": {
      "image/png": "[encoded data removed]",
      "text/plain": [
       "<Figure size 432x288 with 1 Axes>"
      ]
     },
     "metadata": {
      "needs_background": "light"
     },
     "output_type": "display_data"
    }
   ],
   "source": [
    "plt.scatter(blues.iloc[:, 0], blues.iloc[:, 1], s=10, label='Blue')\n",
    "plt.scatter(reds.iloc[:, 0], reds.iloc[:, 1], s=10, label='Red')\n",
    "plt.legend()\n",
    "plt.show()"
   ]
  },
  {
   "cell_type": "markdown",
   "metadata": {},
   "source": [
    "# Sử dụng numpy để tách dữ liệu "
   ]
  },
  {
   "cell_type": "code",
   "execution_count": 233,
   "metadata": {},
   "outputs": [],
   "source": [
    "from numpy import genfromtxt\n",
    "my_data = genfromtxt('./marks.txt', delimiter=',')\n",
    "\n",
    "X, y = my_data[:, :-1], my_data[:, -1]\n",
    "\n",
    "X = np.concatenate((X, np.ones((X.shape[0], 1))), axis=1)\n",
    "y = np.reshape(y, (y.shape[0], 1))"
   ]
  },
  {
   "cell_type": "markdown",
   "metadata": {},
   "source": [
    "# Chú ý : \n",
    "Chia data thành 2 bộ:\n",
    "- train, test độ chính xác sau khi train.\n",
    "- Ngoài ra còn có 1 bộ test validation test để kiểm tra độ chính xác của mô hình khi train.\n",
    "Nhưng bài này tôi chỉ dùng 2 bộ train và test"
   ]
  },
  {
   "cell_type": "code",
   "execution_count": 234,
   "metadata": {},
   "outputs": [],
   "source": [
    "# 95 điểm dữ liệu dành để train\n",
    "train_x = X[:95] # Shape(95, 3)\n",
    "train_y = y[:95] # Shape(95, 1)"
   ]
  },
  {
   "cell_type": "code",
   "execution_count": 235,
   "metadata": {},
   "outputs": [],
   "source": [
    "# 5 điểm dữ liệu dành cho test\n",
    "test_x = X[95:] # Shape(5, 3)\n",
    "test_y = y[95:] # Shape(5, 1)"
   ]
  },
  {
   "cell_type": "markdown",
   "metadata": {},
   "source": [
    "# Mục tiêu:\n",
    "- Ta phải tìm đoờng có thể phân cách 2 vùng dữ liệu màu xanh và màu đỏ "
   ]
  },
  {
   "cell_type": "markdown",
   "metadata": {},
   "source": [
    "# Hàm Sigmoid"
   ]
  },
  {
   "cell_type": "code",
   "execution_count": 236,
   "metadata": {},
   "outputs": [],
   "source": [
    "def cal_z(x, theta):\n",
    "    \"\"\"\n",
    "    Parameters\n",
    "    ----------\n",
    "    x shape: (95, 3) \n",
    "    theta shape: (3, 1)\n",
    "    Returns\n",
    "    ----------\n",
    "    z shape (95, 1)\n",
    "    \"\"\"\n",
    "    return np.dot(x, theta)"
   ]
  },
  {
   "cell_type": "code",
   "execution_count": 237,
   "metadata": {},
   "outputs": [],
   "source": [
    "def sigmoid(z):\n",
    "    \"\"\"\n",
    "    Parameters\n",
    "    z shape: (95, 1)\n",
    "    Returns\n",
    "    output shape: (95, 1)\n",
    "    \"\"\"\n",
    "    return 1 / (1 + np.exp(-z))"
   ]
  },
  {
   "cell_type": "code",
   "execution_count": 238,
   "metadata": {},
   "outputs": [],
   "source": [
    "def cal_h_theta(x, theta):\n",
    "    \"\"\"\n",
    "    Parameters\n",
    "    ----------\n",
    "    x shape: (95, 3)\n",
    "    theta shape: (3, 1)\n",
    "    Returns\n",
    "    ----------\n",
    "    output shape: (95, 1)\n",
    "    \"\"\"\n",
    "    z = cal_z(x, theta)\n",
    "    return sigmoid(z)"
   ]
  },
  {
   "cell_type": "code",
   "execution_count": 239,
   "metadata": {},
   "outputs": [],
   "source": [
    "def loss_function(x, y, theta):\n",
    "    \"\"\"\n",
    "    Parameters\n",
    "    ----------\n",
    "    x shape: (95, 3)\n",
    "    y shape: (95, 1)\n",
    "    theta shape: (3, 1)\n",
    "    Returns\n",
    "    ----------\n",
    "    loss: float\n",
    "    \"\"\"\n",
    "    h_theta = cal_h_theta(x, theta)\n",
    "    loss = -(y*np.log(h_theta) + (1-y)*np.log(1-h_theta))\n",
    "    return np.mean(loss)"
   ]
  },
  {
   "cell_type": "code",
   "execution_count": 240,
   "metadata": {},
   "outputs": [],
   "source": [
    "\n",
    "def gradient(x, y, theta):\n",
    "    \"\"\"\n",
    "    Parameters\n",
    "    ----------\n",
    "    x shape: (95, 3)\n",
    "    y shape: (95, 1)\n",
    "    theta shape: (3, 1)\n",
    "    Returns\n",
    "    ----------\n",
    "    grad shape: (3, 1)\n",
    "    \"\"\"\n",
    "    h_theta = cal_h_theta(x, theta)\n",
    "    grad = np.mean(x*(h_theta-y), axis=0)\n",
    "    return grad.reshape((grad.shape[0], 1))"
   ]
  },
  {
   "cell_type": "code",
   "execution_count": 241,
   "metadata": {},
   "outputs": [],
   "source": [
    "# Chuẩn hoá dữ liệu\n",
    "# Quá trình này làm hài hoà mức độ ảnh hưởng của các biến với đầu ta. Ta sẽ nói kỹ về quá trình này trong các bài sau.\n",
    "def normalize_data(train_x, test_x):\n",
    "    train_mean = np.mean(train_x, axis=(0,1), dtype=np.float64, keepdims=True)\n",
    "    train_std = np.std(train_x, axis=(0,1), dtype=np.float64, keepdims=True)\n",
    "    \n",
    "    train_x = (train_x-train_mean)/train_std\n",
    "    test_x = (test_x-train_mean)/train_std\n",
    "    return train_x, test_x"
   ]
  },
  {
   "cell_type": "code",
   "execution_count": 242,
   "metadata": {},
   "outputs": [],
   "source": [
    "theta = np.zeros((X.shape[1], 1))"
   ]
  },
  {
   "cell_type": "code",
   "execution_count": 243,
   "metadata": {},
   "outputs": [
    {
     "data": {
      "text/plain": [
       "array([[0.],\n",
       "       [0.],\n",
       "       [0.]])"
      ]
     },
     "execution_count": 243,
     "metadata": {},
     "output_type": "execute_result"
    }
   ],
   "source": [
    "theta"
   ]
  },
  {
   "cell_type": "markdown",
   "metadata": {},
   "source": [
    "# Số lượt train và tốc độ học "
   ]
  },
  {
   "cell_type": "code",
   "execution_count": 244,
   "metadata": {},
   "outputs": [
    {
     "name": "stdout",
     "output_type": "stream",
     "text": [
      "0.6842137368800885\n",
      "0.2464098058150572\n",
      "0.2184435199345875\n",
      "0.20867475949122966\n",
      "0.2040200257961723\n",
      "0.20146480448052007\n",
      "0.19994282942713038\n",
      "0.1989869819478821\n",
      "0.1983640951064626\n",
      "0.19794706640158616\n",
      "Training finished\n"
     ]
    }
   ],
   "source": [
    "num_epoches = 10000\n",
    "learning_rate = 0.1\n",
    "\n",
    "\n",
    "train_x, test_x = normalize_data(train_x, test_x)\n",
    "\n",
    "for e in range(num_epoches):\n",
    "    # Tính gradient\n",
    "    grad = gradient(train_x, train_y, theta)\n",
    "    \n",
    "    # Update theta\n",
    "    theta = theta - learning_rate * grad\n",
    "    total_loss = loss_function(train_x, train_y, theta)\n",
    "    \n",
    "    \n",
    "    if e % 1000 == 0:\n",
    "        print(total_loss)\n",
    "    \n",
    "print('Training finished')"
   ]
  },
  {
   "cell_type": "code",
   "execution_count": 245,
   "metadata": {},
   "outputs": [
    {
     "data": {
      "text/plain": [
       "(100, 3)"
      ]
     },
     "execution_count": 245,
     "metadata": {},
     "output_type": "execute_result"
    }
   ],
   "source": [
    "X.shape"
   ]
  },
  {
   "cell_type": "code",
   "execution_count": 246,
   "metadata": {},
   "outputs": [
    {
     "data": {
      "text/plain": [
       "array([[6.55693257],\n",
       "       [6.23111232],\n",
       "       [5.3590858 ]])"
      ]
     },
     "execution_count": 246,
     "metadata": {},
     "output_type": "execute_result"
    }
   ],
   "source": [
    "theta"
   ]
  },
  {
   "cell_type": "markdown",
   "metadata": {},
   "source": [
    "# Tiến hành dự đoán \n",
    "Ta cho output của hàm sigmoid ra lớn hơn hoặc bằng 0.5 sẽ là nhãn 1 và nhỏ hơn 0.5 sẽ là nhãn 0"
   ]
  },
  {
   "cell_type": "code",
   "execution_count": 247,
   "metadata": {},
   "outputs": [],
   "source": [
    "predicted_classes = (cal_h_theta(test_x, theta) >= 0.5).astype(int)"
   ]
  },
  {
   "cell_type": "code",
   "execution_count": 248,
   "metadata": {},
   "outputs": [],
   "source": [
    "accuracy = np.mean(predicted_classes == test_y) * 100"
   ]
  },
  {
   "cell_type": "code",
   "execution_count": 249,
   "metadata": {},
   "outputs": [
    {
     "data": {
      "text/plain": [
       "80.0"
      ]
     },
     "execution_count": 249,
     "metadata": {},
     "output_type": "execute_result"
    }
   ],
   "source": [
    "accuracy"
   ]
  },
  {
   "cell_type": "code",
   "execution_count": null,
   "metadata": {},
   "outputs": [],
   "source": []
  }
 ],
 "metadata": {
  "kernelspec": {
   "display_name": "Python 3",
   "language": "python",
   "name": "python3"
  },
  "language_info": {
   "codemirror_mode": {
    "name": "ipython",
    "version": 3
   },
   "file_extension": ".py",
   "mimetype": "text/x-python",
   "name": "python",
   "nbconvert_exporter": "python",
   "pygments_lexer": "ipython3",
   "version": "3.6.9"
  }
 },
 "nbformat": 4,
 "nbformat_minor": 2
}
